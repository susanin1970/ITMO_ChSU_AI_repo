{
 "cells": [
  {
   "cell_type": "code",
   "execution_count": 1,
   "metadata": {},
   "outputs": [],
   "source": [
    "import os\n",
    "from PIL import Image\n",
    "\n",
    "import numpy as np\n",
    "import torchvision.transforms as transforms\n",
    "\n",
    "from torchvision.datasets import ImageFolder\n",
    "from torch.utils.data import DataLoader\n",
    "from piq import FID, psnr, fsim, vif_p, vsi"
   ]
  },
  {
   "cell_type": "code",
   "execution_count": 2,
   "metadata": {},
   "outputs": [],
   "source": [
    "transform = transforms.ToTensor()"
   ]
  },
  {
   "cell_type": "code",
   "execution_count": 22,
   "metadata": {},
   "outputs": [],
   "source": [
    "path_to_train = r\"E:\\Datasets\\Glaucoma_detection\\Fundus_Train_Val_Data\\Fundus_Scanes_Sorted\\Train\\Glaucoma_Negative\"\n",
    "path_to_test = r\"E:\\Datasets\\Glaucoma_detection\\Fundus_Train_Val_Data\\Fundus_Scanes_Sorted\\Validation\\Glaucoma_Negative\""
   ]
  },
  {
   "cell_type": "code",
   "execution_count": 23,
   "metadata": {},
   "outputs": [],
   "source": [
    "\n",
    "psnr_list = []\n",
    "for train_image in os.listdir(path_to_train):\n",
    "    path_to_train_image = os.path.join(path_to_train, train_image)\n",
    "    train_image_tensor = transform(Image.open(path_to_train_image).resize((3072, 2048))).unsqueeze(0).to(\"cuda:0\")\n",
    "    for test_image in os.listdir(path_to_test):\n",
    "        path_to_test_image = os.path.join(path_to_test, test_image)\n",
    "        test_image_tensor = transform(Image.open(path_to_test_image).resize((3072, 2048))).unsqueeze(0).to(\"cuda:0\")\n",
    "        psnr_value = psnr(train_image_tensor, test_image_tensor, data_range=1., reduction='none')\n",
    "        psnr_list.append(psnr_value)"
   ]
  },
  {
   "cell_type": "code",
   "execution_count": 19,
   "metadata": {},
   "outputs": [],
   "source": [
    "psnr_list = [item.cpu().item() for item in psnr_list]"
   ]
  },
  {
   "cell_type": "code",
   "execution_count": 20,
   "metadata": {},
   "outputs": [
    {
     "data": {
      "text/plain": [
       "18.040738178618234"
      ]
     },
     "execution_count": 20,
     "metadata": {},
     "output_type": "execute_result"
    }
   ],
   "source": [
    "np.mean(psnr_list)"
   ]
  },
  {
   "cell_type": "code",
   "execution_count": 13,
   "metadata": {},
   "outputs": [],
   "source": [
    "fsim_list = []\n",
    "for train_image in os.listdir(path_to_train):\n",
    "    path_to_train_image = os.path.join(path_to_train, train_image)\n",
    "    train_image_tensor = transform(Image.open(path_to_train_image).resize((3072, 2048))).unsqueeze(0).to(\"cuda:0\")\n",
    "    for test_image in os.listdir(path_to_test):\n",
    "        path_to_test_image = os.path.join(path_to_test, test_image)\n",
    "        test_image_tensor = transform(Image.open(path_to_test_image).resize((3072, 2048))).unsqueeze(0).to(\"cuda:0\")\n",
    "        fsim_value = fsim(train_image_tensor, test_image_tensor, data_range=1., reduction='none')\n",
    "        fsim_list.append(fsim_value)\n",
    "        \n",
    "        \n",
    "fsim_list = [item.cpu().item() for item in fsim_list]"
   ]
  },
  {
   "cell_type": "code",
   "execution_count": 14,
   "metadata": {},
   "outputs": [
    {
     "data": {
      "text/plain": [
       "0.8246715904668929"
      ]
     },
     "execution_count": 14,
     "metadata": {},
     "output_type": "execute_result"
    }
   ],
   "source": [
    "np.mean(fsim_list)"
   ]
  },
  {
   "cell_type": "code",
   "execution_count": 9,
   "metadata": {},
   "outputs": [],
   "source": [
    "vif_p_list = []\n",
    "for train_image in os.listdir(path_to_train):\n",
    "    path_to_train_image = os.path.join(path_to_train, train_image)\n",
    "    train_image_tensor = transform(Image.open(path_to_train_image).resize((3072, 2048))).unsqueeze(0).to(\"cuda:0\")\n",
    "    for test_image in os.listdir(path_to_test):\n",
    "        path_to_test_image = os.path.join(path_to_test, test_image)\n",
    "        test_image_tensor = transform(Image.open(path_to_test_image).resize((3072, 2048))).unsqueeze(0).to(\"cuda:0\")\n",
    "        vif_p_value = vif_p(train_image_tensor, test_image_tensor, data_range=1., reduction='none')\n",
    "        vif_p_list.append(vif_p_value)\n",
    "        \n",
    "        \n",
    "vif_p_list = [item.cpu().item() for item in vif_p_list]"
   ]
  },
  {
   "cell_type": "code",
   "execution_count": 10,
   "metadata": {},
   "outputs": [
    {
     "data": {
      "text/plain": [
       "0.07700038210476591"
      ]
     },
     "execution_count": 10,
     "metadata": {},
     "output_type": "execute_result"
    }
   ],
   "source": [
    "np.mean(vif_p_list)"
   ]
  },
  {
   "cell_type": "code",
   "execution_count": 15,
   "metadata": {},
   "outputs": [],
   "source": [
    "vsi_list = []\n",
    "for train_image in os.listdir(path_to_train):\n",
    "    path_to_train_image = os.path.join(path_to_train, train_image)\n",
    "    train_image_tensor = transform(Image.open(path_to_train_image).resize((3072, 2048))).unsqueeze(0).to(\"cuda:0\")\n",
    "    for test_image in os.listdir(path_to_test):\n",
    "        path_to_test_image = os.path.join(path_to_test, test_image)\n",
    "        test_image_tensor = transform(Image.open(path_to_test_image).resize((3072, 2048))).unsqueeze(0).to(\"cuda:0\")\n",
    "        vsi_value = vsi(train_image_tensor, test_image_tensor, data_range=1.)\n",
    "        vsi_list.append(vsi_value)\n",
    "        \n",
    "        \n",
    "vsi_list = [item.cpu().item() for item in vsi_list]"
   ]
  },
  {
   "cell_type": "code",
   "execution_count": 16,
   "metadata": {},
   "outputs": [
    {
     "data": {
      "text/plain": [
       "0.9352145980883314"
      ]
     },
     "execution_count": 16,
     "metadata": {},
     "output_type": "execute_result"
    }
   ],
   "source": [
    "np.mean(vsi_list)"
   ]
  },
  {
   "cell_type": "code",
   "execution_count": null,
   "metadata": {},
   "outputs": [],
   "source": []
  }
 ],
 "metadata": {
  "kernelspec": {
   "display_name": "experimental_env",
   "language": "python",
   "name": "python3"
  },
  "language_info": {
   "codemirror_mode": {
    "name": "ipython",
    "version": 3
   },
   "file_extension": ".py",
   "mimetype": "text/x-python",
   "name": "python",
   "nbconvert_exporter": "python",
   "pygments_lexer": "ipython3",
   "version": "3.9.0"
  }
 },
 "nbformat": 4,
 "nbformat_minor": 2
}
